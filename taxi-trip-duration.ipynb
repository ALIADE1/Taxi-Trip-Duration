{
 "cells": [
  {
   "cell_type": "markdown",
   "id": "33c34d54",
   "metadata": {
    "execution": {
     "iopub.execute_input": "2024-09-21T23:01:59.694754Z",
     "iopub.status.busy": "2024-09-21T23:01:59.694323Z",
     "iopub.status.idle": "2024-09-21T23:01:59.700686Z",
     "shell.execute_reply": "2024-09-21T23:01:59.699526Z",
     "shell.execute_reply.started": "2024-09-21T23:01:59.694710Z"
    },
    "papermill": {
     "duration": 0.004888,
     "end_time": "2024-10-09T19:25:33.510781",
     "exception": false,
     "start_time": "2024-10-09T19:25:33.505893",
     "status": "completed"
    },
    "tags": []
   },
   "source": [
    "# TAXI TRIP DURATION"
   ]
  },
  {
   "cell_type": "code",
   "execution_count": 1,
   "id": "527528e2",
   "metadata": {
    "_cell_guid": "b1076dfc-b9ad-4769-8c92-a6c4dae69d19",
    "_uuid": "8f2839f25d086af736a60e9eeb907d3b93b6e0e5",
    "execution": {
     "iopub.execute_input": "2024-10-09T19:25:33.521069Z",
     "iopub.status.busy": "2024-10-09T19:25:33.520637Z",
     "iopub.status.idle": "2024-10-09T19:25:35.885454Z",
     "shell.execute_reply": "2024-10-09T19:25:35.884019Z"
    },
    "papermill": {
     "duration": 2.37297,
     "end_time": "2024-10-09T19:25:35.888093",
     "exception": false,
     "start_time": "2024-10-09T19:25:33.515123",
     "status": "completed"
    },
    "tags": []
   },
   "outputs": [],
   "source": [
    "import pandas as pd\n",
    "import numpy as np\n",
    "import matplotlib.pyplot as plt\n",
    "from sklearn.linear_model import Ridge\n",
    "from sklearn.model_selection import train_test_split, cross_val_score, GridSearchCV\n",
    "from sklearn.preprocessing import LabelEncoder, MinMaxScaler\n"
   ]
  },
  {
   "cell_type": "code",
   "execution_count": 2,
   "id": "d5ea6ece",
   "metadata": {
    "execution": {
     "iopub.execute_input": "2024-10-09T19:25:35.899437Z",
     "iopub.status.busy": "2024-10-09T19:25:35.898343Z",
     "iopub.status.idle": "2024-10-09T19:25:43.386674Z",
     "shell.execute_reply": "2024-10-09T19:25:43.385451Z"
    },
    "papermill": {
     "duration": 7.496459,
     "end_time": "2024-10-09T19:25:43.389332",
     "exception": false,
     "start_time": "2024-10-09T19:25:35.892873",
     "status": "completed"
    },
    "tags": []
   },
   "outputs": [
    {
     "data": {
      "text/html": [
       "<div>\n",
       "<style scoped>\n",
       "    .dataframe tbody tr th:only-of-type {\n",
       "        vertical-align: middle;\n",
       "    }\n",
       "\n",
       "    .dataframe tbody tr th {\n",
       "        vertical-align: top;\n",
       "    }\n",
       "\n",
       "    .dataframe thead th {\n",
       "        text-align: right;\n",
       "    }\n",
       "</style>\n",
       "<table border=\"1\" class=\"dataframe\">\n",
       "  <thead>\n",
       "    <tr style=\"text-align: right;\">\n",
       "      <th></th>\n",
       "      <th>id</th>\n",
       "      <th>vendor_id</th>\n",
       "      <th>pickup_datetime</th>\n",
       "      <th>dropoff_datetime</th>\n",
       "      <th>passenger_count</th>\n",
       "      <th>pickup_longitude</th>\n",
       "      <th>pickup_latitude</th>\n",
       "      <th>dropoff_longitude</th>\n",
       "      <th>dropoff_latitude</th>\n",
       "      <th>store_and_fwd_flag</th>\n",
       "      <th>trip_duration</th>\n",
       "    </tr>\n",
       "  </thead>\n",
       "  <tbody>\n",
       "    <tr>\n",
       "      <th>0</th>\n",
       "      <td>id2875421</td>\n",
       "      <td>2</td>\n",
       "      <td>2016-03-14 17:24:55</td>\n",
       "      <td>2016-03-14 17:32:30</td>\n",
       "      <td>1</td>\n",
       "      <td>-73.982155</td>\n",
       "      <td>40.767937</td>\n",
       "      <td>-73.964630</td>\n",
       "      <td>40.765602</td>\n",
       "      <td>N</td>\n",
       "      <td>455</td>\n",
       "    </tr>\n",
       "    <tr>\n",
       "      <th>1</th>\n",
       "      <td>id2377394</td>\n",
       "      <td>1</td>\n",
       "      <td>2016-06-12 00:43:35</td>\n",
       "      <td>2016-06-12 00:54:38</td>\n",
       "      <td>1</td>\n",
       "      <td>-73.980415</td>\n",
       "      <td>40.738564</td>\n",
       "      <td>-73.999481</td>\n",
       "      <td>40.731152</td>\n",
       "      <td>N</td>\n",
       "      <td>663</td>\n",
       "    </tr>\n",
       "    <tr>\n",
       "      <th>2</th>\n",
       "      <td>id3858529</td>\n",
       "      <td>2</td>\n",
       "      <td>2016-01-19 11:35:24</td>\n",
       "      <td>2016-01-19 12:10:48</td>\n",
       "      <td>1</td>\n",
       "      <td>-73.979027</td>\n",
       "      <td>40.763939</td>\n",
       "      <td>-74.005333</td>\n",
       "      <td>40.710087</td>\n",
       "      <td>N</td>\n",
       "      <td>2124</td>\n",
       "    </tr>\n",
       "    <tr>\n",
       "      <th>3</th>\n",
       "      <td>id3504673</td>\n",
       "      <td>2</td>\n",
       "      <td>2016-04-06 19:32:31</td>\n",
       "      <td>2016-04-06 19:39:40</td>\n",
       "      <td>1</td>\n",
       "      <td>-74.010040</td>\n",
       "      <td>40.719971</td>\n",
       "      <td>-74.012268</td>\n",
       "      <td>40.706718</td>\n",
       "      <td>N</td>\n",
       "      <td>429</td>\n",
       "    </tr>\n",
       "    <tr>\n",
       "      <th>4</th>\n",
       "      <td>id2181028</td>\n",
       "      <td>2</td>\n",
       "      <td>2016-03-26 13:30:55</td>\n",
       "      <td>2016-03-26 13:38:10</td>\n",
       "      <td>1</td>\n",
       "      <td>-73.973053</td>\n",
       "      <td>40.793209</td>\n",
       "      <td>-73.972923</td>\n",
       "      <td>40.782520</td>\n",
       "      <td>N</td>\n",
       "      <td>435</td>\n",
       "    </tr>\n",
       "    <tr>\n",
       "      <th>5</th>\n",
       "      <td>id0801584</td>\n",
       "      <td>2</td>\n",
       "      <td>2016-01-30 22:01:40</td>\n",
       "      <td>2016-01-30 22:09:03</td>\n",
       "      <td>6</td>\n",
       "      <td>-73.982857</td>\n",
       "      <td>40.742195</td>\n",
       "      <td>-73.992081</td>\n",
       "      <td>40.749184</td>\n",
       "      <td>N</td>\n",
       "      <td>443</td>\n",
       "    </tr>\n",
       "    <tr>\n",
       "      <th>6</th>\n",
       "      <td>id1813257</td>\n",
       "      <td>1</td>\n",
       "      <td>2016-06-17 22:34:59</td>\n",
       "      <td>2016-06-17 22:40:40</td>\n",
       "      <td>4</td>\n",
       "      <td>-73.969017</td>\n",
       "      <td>40.757839</td>\n",
       "      <td>-73.957405</td>\n",
       "      <td>40.765896</td>\n",
       "      <td>N</td>\n",
       "      <td>341</td>\n",
       "    </tr>\n",
       "  </tbody>\n",
       "</table>\n",
       "</div>"
      ],
      "text/plain": [
       "          id  vendor_id      pickup_datetime     dropoff_datetime  \\\n",
       "0  id2875421          2  2016-03-14 17:24:55  2016-03-14 17:32:30   \n",
       "1  id2377394          1  2016-06-12 00:43:35  2016-06-12 00:54:38   \n",
       "2  id3858529          2  2016-01-19 11:35:24  2016-01-19 12:10:48   \n",
       "3  id3504673          2  2016-04-06 19:32:31  2016-04-06 19:39:40   \n",
       "4  id2181028          2  2016-03-26 13:30:55  2016-03-26 13:38:10   \n",
       "5  id0801584          2  2016-01-30 22:01:40  2016-01-30 22:09:03   \n",
       "6  id1813257          1  2016-06-17 22:34:59  2016-06-17 22:40:40   \n",
       "\n",
       "   passenger_count  pickup_longitude  pickup_latitude  dropoff_longitude  \\\n",
       "0                1        -73.982155        40.767937         -73.964630   \n",
       "1                1        -73.980415        40.738564         -73.999481   \n",
       "2                1        -73.979027        40.763939         -74.005333   \n",
       "3                1        -74.010040        40.719971         -74.012268   \n",
       "4                1        -73.973053        40.793209         -73.972923   \n",
       "5                6        -73.982857        40.742195         -73.992081   \n",
       "6                4        -73.969017        40.757839         -73.957405   \n",
       "\n",
       "   dropoff_latitude store_and_fwd_flag  trip_duration  \n",
       "0         40.765602                  N            455  \n",
       "1         40.731152                  N            663  \n",
       "2         40.710087                  N           2124  \n",
       "3         40.706718                  N            429  \n",
       "4         40.782520                  N            435  \n",
       "5         40.749184                  N            443  \n",
       "6         40.765896                  N            341  "
      ]
     },
     "execution_count": 2,
     "metadata": {},
     "output_type": "execute_result"
    }
   ],
   "source": [
    "# Load training dataset\n",
    "df_train = pd.read_csv(\"/kaggle/input/nyc-taxi-trip-duration/train.zip\")\n",
    "df_train.head(7)"
   ]
  },
  {
   "cell_type": "code",
   "execution_count": 3,
   "id": "26e53b4a",
   "metadata": {
    "execution": {
     "iopub.execute_input": "2024-10-09T19:25:43.400935Z",
     "iopub.status.busy": "2024-10-09T19:25:43.400058Z",
     "iopub.status.idle": "2024-10-09T19:25:43.405946Z",
     "shell.execute_reply": "2024-10-09T19:25:43.404782Z"
    },
    "papermill": {
     "duration": 0.01423,
     "end_time": "2024-10-09T19:25:43.408368",
     "exception": false,
     "start_time": "2024-10-09T19:25:43.394138",
     "status": "completed"
    },
    "tags": []
   },
   "outputs": [
    {
     "name": "stdout",
     "output_type": "stream",
     "text": [
      "Shape of Data => (1458644, 11)\n"
     ]
    }
   ],
   "source": [
    "# Get the shape of the DataFrame\n",
    "Shape = df_train.shape\n",
    "print(f\"Shape of Data => {Shape}\")"
   ]
  },
  {
   "cell_type": "code",
   "execution_count": 4,
   "id": "ca269c61",
   "metadata": {
    "execution": {
     "iopub.execute_input": "2024-10-09T19:25:43.419526Z",
     "iopub.status.busy": "2024-10-09T19:25:43.419116Z",
     "iopub.status.idle": "2024-10-09T19:25:43.428564Z",
     "shell.execute_reply": "2024-10-09T19:25:43.427324Z"
    },
    "papermill": {
     "duration": 0.01776,
     "end_time": "2024-10-09T19:25:43.430916",
     "exception": false,
     "start_time": "2024-10-09T19:25:43.413156",
     "status": "completed"
    },
    "tags": []
   },
   "outputs": [
    {
     "data": {
      "text/plain": [
       "id                     object\n",
       "vendor_id               int64\n",
       "pickup_datetime        object\n",
       "dropoff_datetime       object\n",
       "passenger_count         int64\n",
       "pickup_longitude      float64\n",
       "pickup_latitude       float64\n",
       "dropoff_longitude     float64\n",
       "dropoff_latitude      float64\n",
       "store_and_fwd_flag     object\n",
       "trip_duration           int64\n",
       "dtype: object"
      ]
     },
     "execution_count": 4,
     "metadata": {},
     "output_type": "execute_result"
    }
   ],
   "source": [
    "# Data types of each column in the DataFrame\n",
    "df_train.dtypes"
   ]
  },
  {
   "cell_type": "code",
   "execution_count": 5,
   "id": "c375c42b",
   "metadata": {
    "execution": {
     "iopub.execute_input": "2024-10-09T19:25:43.442373Z",
     "iopub.status.busy": "2024-10-09T19:25:43.441941Z",
     "iopub.status.idle": "2024-10-09T19:25:43.748714Z",
     "shell.execute_reply": "2024-10-09T19:25:43.747251Z"
    },
    "papermill": {
     "duration": 0.315675,
     "end_time": "2024-10-09T19:25:43.751519",
     "exception": false,
     "start_time": "2024-10-09T19:25:43.435844",
     "status": "completed"
    },
    "tags": []
   },
   "outputs": [
    {
     "name": "stdout",
     "output_type": "stream",
     "text": [
      "<class 'pandas.core.frame.DataFrame'>\n",
      "RangeIndex: 1458644 entries, 0 to 1458643\n",
      "Data columns (total 11 columns):\n",
      " #   Column              Non-Null Count    Dtype  \n",
      "---  ------              --------------    -----  \n",
      " 0   id                  1458644 non-null  object \n",
      " 1   vendor_id           1458644 non-null  int64  \n",
      " 2   pickup_datetime     1458644 non-null  object \n",
      " 3   dropoff_datetime    1458644 non-null  object \n",
      " 4   passenger_count     1458644 non-null  int64  \n",
      " 5   pickup_longitude    1458644 non-null  float64\n",
      " 6   pickup_latitude     1458644 non-null  float64\n",
      " 7   dropoff_longitude   1458644 non-null  float64\n",
      " 8   dropoff_latitude    1458644 non-null  float64\n",
      " 9   store_and_fwd_flag  1458644 non-null  object \n",
      " 10  trip_duration       1458644 non-null  int64  \n",
      "dtypes: float64(4), int64(3), object(4)\n",
      "memory usage: 122.4+ MB\n"
     ]
    }
   ],
   "source": [
    "df_train.info()"
   ]
  },
  {
   "cell_type": "code",
   "execution_count": 6,
   "id": "b6804d66",
   "metadata": {
    "execution": {
     "iopub.execute_input": "2024-10-09T19:25:43.764400Z",
     "iopub.status.busy": "2024-10-09T19:25:43.763337Z",
     "iopub.status.idle": "2024-10-09T19:25:44.052930Z",
     "shell.execute_reply": "2024-10-09T19:25:44.051838Z"
    },
    "papermill": {
     "duration": 0.298882,
     "end_time": "2024-10-09T19:25:44.055523",
     "exception": false,
     "start_time": "2024-10-09T19:25:43.756641",
     "status": "completed"
    },
    "tags": []
   },
   "outputs": [
    {
     "data": {
      "text/plain": [
       "id                    0\n",
       "vendor_id             0\n",
       "pickup_datetime       0\n",
       "dropoff_datetime      0\n",
       "passenger_count       0\n",
       "pickup_longitude      0\n",
       "pickup_latitude       0\n",
       "dropoff_longitude     0\n",
       "dropoff_latitude      0\n",
       "store_and_fwd_flag    0\n",
       "trip_duration         0\n",
       "dtype: int64"
      ]
     },
     "execution_count": 6,
     "metadata": {},
     "output_type": "execute_result"
    }
   ],
   "source": [
    "df_train.isnull().sum()"
   ]
  },
  {
   "cell_type": "code",
   "execution_count": 7,
   "id": "580e2226",
   "metadata": {
    "execution": {
     "iopub.execute_input": "2024-10-09T19:25:44.067206Z",
     "iopub.status.busy": "2024-10-09T19:25:44.066772Z",
     "iopub.status.idle": "2024-10-09T19:25:44.226551Z",
     "shell.execute_reply": "2024-10-09T19:25:44.225448Z"
    },
    "papermill": {
     "duration": 0.168336,
     "end_time": "2024-10-09T19:25:44.228848",
     "exception": false,
     "start_time": "2024-10-09T19:25:44.060512",
     "status": "completed"
    },
    "tags": []
   },
   "outputs": [
    {
     "data": {
      "text/html": [
       "<div>\n",
       "<style scoped>\n",
       "    .dataframe tbody tr th:only-of-type {\n",
       "        vertical-align: middle;\n",
       "    }\n",
       "\n",
       "    .dataframe tbody tr th {\n",
       "        vertical-align: top;\n",
       "    }\n",
       "\n",
       "    .dataframe thead th {\n",
       "        text-align: right;\n",
       "    }\n",
       "</style>\n",
       "<table border=\"1\" class=\"dataframe\">\n",
       "  <thead>\n",
       "    <tr style=\"text-align: right;\">\n",
       "      <th></th>\n",
       "      <th>passenger_count</th>\n",
       "      <th>trip_duration</th>\n",
       "      <th>vendor_id</th>\n",
       "    </tr>\n",
       "  </thead>\n",
       "  <tbody>\n",
       "    <tr>\n",
       "      <th>count</th>\n",
       "      <td>1.458644e+06</td>\n",
       "      <td>1.458644e+06</td>\n",
       "      <td>1.458644e+06</td>\n",
       "    </tr>\n",
       "    <tr>\n",
       "      <th>mean</th>\n",
       "      <td>1.664530e+00</td>\n",
       "      <td>9.594923e+02</td>\n",
       "      <td>1.534950e+00</td>\n",
       "    </tr>\n",
       "    <tr>\n",
       "      <th>std</th>\n",
       "      <td>1.314242e+00</td>\n",
       "      <td>5.237432e+03</td>\n",
       "      <td>4.987772e-01</td>\n",
       "    </tr>\n",
       "    <tr>\n",
       "      <th>min</th>\n",
       "      <td>0.000000e+00</td>\n",
       "      <td>1.000000e+00</td>\n",
       "      <td>1.000000e+00</td>\n",
       "    </tr>\n",
       "    <tr>\n",
       "      <th>25%</th>\n",
       "      <td>1.000000e+00</td>\n",
       "      <td>3.970000e+02</td>\n",
       "      <td>1.000000e+00</td>\n",
       "    </tr>\n",
       "    <tr>\n",
       "      <th>50%</th>\n",
       "      <td>1.000000e+00</td>\n",
       "      <td>6.620000e+02</td>\n",
       "      <td>2.000000e+00</td>\n",
       "    </tr>\n",
       "    <tr>\n",
       "      <th>75%</th>\n",
       "      <td>2.000000e+00</td>\n",
       "      <td>1.075000e+03</td>\n",
       "      <td>2.000000e+00</td>\n",
       "    </tr>\n",
       "    <tr>\n",
       "      <th>max</th>\n",
       "      <td>9.000000e+00</td>\n",
       "      <td>3.526282e+06</td>\n",
       "      <td>2.000000e+00</td>\n",
       "    </tr>\n",
       "  </tbody>\n",
       "</table>\n",
       "</div>"
      ],
      "text/plain": [
       "       passenger_count  trip_duration     vendor_id\n",
       "count     1.458644e+06   1.458644e+06  1.458644e+06\n",
       "mean      1.664530e+00   9.594923e+02  1.534950e+00\n",
       "std       1.314242e+00   5.237432e+03  4.987772e-01\n",
       "min       0.000000e+00   1.000000e+00  1.000000e+00\n",
       "25%       1.000000e+00   3.970000e+02  1.000000e+00\n",
       "50%       1.000000e+00   6.620000e+02  2.000000e+00\n",
       "75%       2.000000e+00   1.075000e+03  2.000000e+00\n",
       "max       9.000000e+00   3.526282e+06  2.000000e+00"
      ]
     },
     "execution_count": 7,
     "metadata": {},
     "output_type": "execute_result"
    }
   ],
   "source": [
    "df_train[['passenger_count','trip_duration','vendor_id']].describe()"
   ]
  },
  {
   "cell_type": "code",
   "execution_count": 8,
   "id": "5844d70f",
   "metadata": {
    "execution": {
     "iopub.execute_input": "2024-10-09T19:25:44.240949Z",
     "iopub.status.busy": "2024-10-09T19:25:44.240552Z",
     "iopub.status.idle": "2024-10-09T19:25:44.446306Z",
     "shell.execute_reply": "2024-10-09T19:25:44.444954Z"
    },
    "papermill": {
     "duration": 0.216489,
     "end_time": "2024-10-09T19:25:44.450562",
     "exception": false,
     "start_time": "2024-10-09T19:25:44.234073",
     "status": "completed"
    },
    "tags": []
   },
   "outputs": [
    {
     "data": {
      "image/png": "[encoded data removed]",
      "text/plain": [
       "<Figure size 640x480 with 1 Axes>"
      ]
     },
     "metadata": {},
     "output_type": "display_data"
    }
   ],
   "source": [
    "vendor_counts = df_train['vendor_id'].value_counts()\n",
    "\n",
    "plt.pie(vendor_counts, labels=vendor_counts.index, autopct='%1.2f%%')\n",
    "\n",
    "plt.title('Vendors Distribution')\n",
    "plt.tight_layout()\n",
    "plt.show()"
   ]
  },
  {
   "cell_type": "code",
   "execution_count": 9,
   "id": "ed8f34c5",
   "metadata": {
    "execution": {
     "iopub.execute_input": "2024-10-09T19:25:44.471784Z",
     "iopub.status.busy": "2024-10-09T19:25:44.470686Z",
     "iopub.status.idle": "2024-10-09T19:25:44.780798Z",
     "shell.execute_reply": "2024-10-09T19:25:44.779759Z"
    },
    "papermill": {
     "duration": 0.323203,
     "end_time": "2024-10-09T19:25:44.783030",
     "exception": false,
     "start_time": "2024-10-09T19:25:44.459827",
     "status": "completed"
    },
    "tags": []
   },
   "outputs": [
    {
     "data": {
      "image/png": "[encoded data removed]",
      "text/plain": [
       "<Figure size 640x480 with 1 Axes>"
      ]
     },
     "metadata": {},
     "output_type": "display_data"
    }
   ],
   "source": [
    "import matplotlib.pyplot as plt\n",
    "\n",
    "# Create the histogram\n",
    "plt.hist(df_train['passenger_count'], bins=range(df_train['passenger_count'].min(), df_train['passenger_count'].max()))\n",
    "\n",
    "# Set the title and labels\n",
    "plt.title('Histogram of Passenger Count',pad =20,color = \"red\",size=15)\n",
    "plt.xlabel('Number of Passengers',color = \"red\",size=15)\n",
    "plt.ylabel('Frequency',color = \"red\",size=15)\n",
    "\n",
    "# Show the plot\n",
    "plt.tight_layout()\n",
    "plt.show()\n"
   ]
  },
  {
   "cell_type": "code",
   "execution_count": 10,
   "id": "b96b0dea",
   "metadata": {
    "execution": {
     "iopub.execute_input": "2024-10-09T19:25:44.797000Z",
     "iopub.status.busy": "2024-10-09T19:25:44.796074Z",
     "iopub.status.idle": "2024-10-09T19:25:51.397423Z",
     "shell.execute_reply": "2024-10-09T19:25:51.396202Z"
    },
    "papermill": {
     "duration": 6.610623,
     "end_time": "2024-10-09T19:25:51.399672",
     "exception": false,
     "start_time": "2024-10-09T19:25:44.789049",
     "status": "completed"
    },
    "tags": []
   },
   "outputs": [
    {
     "data": {
      "image/png": "[encoded data removed]",
      "text/plain": [
       "<Figure size 1200x600 with 2 Axes>"
      ]
     },
     "metadata": {},
     "output_type": "display_data"
    }
   ],
   "source": [
    "plt.figure(figsize=(12, 6))\n",
    "\n",
    "plt.subplot(1, 2, 1)\n",
    "plt.scatter(df_train['pickup_longitude'], df_train['pickup_latitude'],color = \"blue\")\n",
    "plt.title('Pickup Locations',pad =20,color = \"red\",size=15)\n",
    "plt.xlabel('Longitude',color = \"red\",size=15)\n",
    "plt.ylabel('Latitude',color = \"red\",size=15)\n",
    "\n",
    "plt.subplot(1, 2, 2)\n",
    "plt.scatter(df_train['dropoff_longitude'], df_train['dropoff_latitude'],color = \"blue\")\n",
    "plt.title('Dropoff Locations',pad =20,color = \"red\",size=15)\n",
    "plt.xlabel('Longitude',color = \"red\",size=15)\n",
    "plt.ylabel('Latitude',color = \"red\",size=15)\n",
    "\n",
    "plt.tight_layout()\n",
    "plt.show()\n"
   ]
  },
  {
   "cell_type": "code",
   "execution_count": 11,
   "id": "a261ba33",
   "metadata": {
    "execution": {
     "iopub.execute_input": "2024-10-09T19:25:51.414553Z",
     "iopub.status.busy": "2024-10-09T19:25:51.414119Z",
     "iopub.status.idle": "2024-10-09T19:25:52.442384Z",
     "shell.execute_reply": "2024-10-09T19:25:52.441211Z"
    },
    "papermill": {
     "duration": 1.038853,
     "end_time": "2024-10-09T19:25:52.445057",
     "exception": false,
     "start_time": "2024-10-09T19:25:51.406204",
     "status": "completed"
    },
    "tags": []
   },
   "outputs": [],
   "source": [
    "# Convert datetime and extract time-related features\n",
    "df_train['pickup_datetime'] = pd.to_datetime(df_train['pickup_datetime'])\n",
    "df_train['pickup_day'] = df_train['pickup_datetime'].dt.day_name()\n",
    "df_train['pickup_hour'] = df_train['pickup_datetime'].dt.hour\n",
    "df_train['pickup_month'] = df_train['pickup_datetime'].dt.month\n"
   ]
  },
  {
   "cell_type": "code",
   "execution_count": 12,
   "id": "b9187a33",
   "metadata": {
    "execution": {
     "iopub.execute_input": "2024-10-09T19:25:52.460226Z",
     "iopub.status.busy": "2024-10-09T19:25:52.459813Z",
     "iopub.status.idle": "2024-10-09T19:25:53.073063Z",
     "shell.execute_reply": "2024-10-09T19:25:53.071942Z"
    },
    "papermill": {
     "duration": 0.623785,
     "end_time": "2024-10-09T19:25:53.075723",
     "exception": false,
     "start_time": "2024-10-09T19:25:52.451938",
     "status": "completed"
    },
    "tags": []
   },
   "outputs": [],
   "source": [
    "# Label Encoding for categorical features\n",
    "label_encode = LabelEncoder()\n",
    "df_train['store_and_fwd_flag_encoded'] = label_encode.fit_transform(df_train['store_and_fwd_flag'])\n",
    "df_train['pickup_day_encoded'] = label_encode.fit_transform(df_train['pickup_day'])"
   ]
  },
  {
   "cell_type": "code",
   "execution_count": 13,
   "id": "d40dc86b",
   "metadata": {
    "execution": {
     "iopub.execute_input": "2024-10-09T19:25:53.090390Z",
     "iopub.status.busy": "2024-10-09T19:25:53.089951Z",
     "iopub.status.idle": "2024-10-09T19:25:53.655301Z",
     "shell.execute_reply": "2024-10-09T19:25:53.654233Z"
    },
    "papermill": {
     "duration": 0.575825,
     "end_time": "2024-10-09T19:25:53.657979",
     "exception": false,
     "start_time": "2024-10-09T19:25:53.082154",
     "status": "completed"
    },
    "tags": []
   },
   "outputs": [],
   "source": [
    "def haversine_distance(lat1, lon1, lat2, lon2):\n",
    "    R = 6371  # Radius of Earth in kilometers\n",
    "    phi1 = np.radians(lat1)\n",
    "    phi2 = np.radians(lat2)\n",
    "    delta_phi = np.radians(lat2 - lat1)\n",
    "    delta_lambda = np.radians(lon2 - lon1)\n",
    "    a = np.sin(delta_phi / 2) ** 2 + np.cos(phi1) * np.cos(phi2) * np.sin(delta_lambda / 2) ** 2\n",
    "    c = 2 * np.arctan2(np.sqrt(a), np.sqrt(1 - a))\n",
    "    return R * c\n",
    "\n",
    "\n",
    "df_train['distance'] = haversine_distance(df_train['pickup_latitude'], df_train['pickup_longitude'],\n",
    "                                          df_train['dropoff_latitude'], df_train['dropoff_longitude'])\n",
    "\n",
    "# Calculate speed (in km/h)\n",
    "df_train['speed'] = np.where(df_train['trip_duration'] > 0,\n",
    "                             df_train['distance'] / (df_train['trip_duration'] / 3600), 0)\n",
    "\n",
    "# Outlier Removal: Filter trips with extreme trip durations\n",
    "df_train = df_train[(df_train['trip_duration'] > 70) & (df_train['trip_duration'] < 7000)]\n",
    "\n",
    "# Log transformation of the target variable (trip_duration)\n",
    "df_train['log_trip_duration'] = np.log1p(df_train['trip_duration'])\n",
    "\n",
    "X = df_train[['vendor_id', 'store_and_fwd_flag_encoded', 'pickup_day_encoded', 'pickup_hour',\n",
    "              'pickup_month', 'distance', 'passenger_count', 'speed']]\n",
    "T = df_train['log_trip_duration']"
   ]
  },
  {
   "cell_type": "code",
   "execution_count": 14,
   "id": "ccd2aec8",
   "metadata": {
    "execution": {
     "iopub.execute_input": "2024-10-09T19:25:53.672806Z",
     "iopub.status.busy": "2024-10-09T19:25:53.672398Z",
     "iopub.status.idle": "2024-10-09T19:25:59.015427Z",
     "shell.execute_reply": "2024-10-09T19:25:59.014166Z"
    },
    "papermill": {
     "duration": 5.354448,
     "end_time": "2024-10-09T19:25:59.018992",
     "exception": false,
     "start_time": "2024-10-09T19:25:53.664544",
     "status": "completed"
    },
    "tags": []
   },
   "outputs": [],
   "source": [
    "scaler = MinMaxScaler()\n",
    "X_scaled = scaler.fit_transform(X)\n",
    "\n",
    "x_train, x_test, t_train, t_test = train_test_split(X_scaled, T, test_size=0.2, random_state=42)\n",
    "\n",
    "ridge_model = Ridge()\n",
    "param_grid = {'alpha': [0.1, 0.01, 0.001, 1]}\n",
    "grid_search = GridSearchCV(ridge_model, param_grid, cv=4, scoring='r2')\n",
    "grid_search.fit(X_scaled, T)\n",
    "\n",
    "r2_scores_ridge_cv = cross_val_score(grid_search.best_estimator_, X_scaled, T, cv=4, scoring='r2')\n"
   ]
  }
 ],
 "metadata": {
  "kaggle": {
   "accelerator": "none",
   "dataSources": [
    {
     "databundleVersionId": 44258,
     "sourceId": 6960,
     "sourceType": "competition"
    }
   ],
   "dockerImageVersionId": 30761,
   "isGpuEnabled": false,
   "isInternetEnabled": true,
   "language": "python",
   "sourceType": "notebook"
  },
  "kernelspec": {
   "display_name": "Python 3",
   "language": "python",
   "name": "python3"
  },
  "language_info": {
   "codemirror_mode": {
    "name": "ipython",
    "version": 3
   },
   "file_extension": ".py",
   "mimetype": "text/x-python",
   "name": "python",
   "nbconvert_exporter": "python",
   "pygments_lexer": "ipython3",
   "version": "3.10.14"
  },
  "papermill": {
   "default_parameters": {},
   "duration": 29.182426,
   "end_time": "2024-10-09T19:25:59.870299",
   "environment_variables": {},
   "exception": null,
   "input_path": "__notebook__.ipynb",
   "output_path": "__notebook__.ipynb",
   "parameters": {},
   "start_time": "2024-10-09T19:25:30.687873",
   "version": "2.6.0"
  }
 },
 "nbformat": 4,
 "nbformat_minor": 5
}
